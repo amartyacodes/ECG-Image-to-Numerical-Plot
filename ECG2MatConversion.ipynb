{
  "nbformat": 4,
  "nbformat_minor": 0,
  "metadata": {
    "colab": {
      "name": "ECG2MatConversion.ipynb",
      "provenance": [],
      "collapsed_sections": [],
      "authorship_tag": "ABX9TyOz22t0eZL2Z1RCW66V/Vk3",
      "include_colab_link": true
    },
    "kernelspec": {
      "name": "python3",
      "display_name": "Python 3"
    },
    "language_info": {
      "name": "python"
    }
  },
  "cells": [
    {
      "cell_type": "markdown",
      "metadata": {
        "id": "view-in-github",
        "colab_type": "text"
      },
      "source": [
        "<a href=\"https://colab.research.google.com/github/amartyacodes/ECG-Image-to-Numerical-Plot/blob/main/ECG2MatConversion.ipynb\" target=\"_parent\"><img src=\"https://colab.research.google.com/assets/colab-badge.svg\" alt=\"Open In Colab\"/></a>"
      ]
    },
    {
      "cell_type": "code",
      "metadata": {
        "id": "Dt9OQy1nkvxL"
      },
      "source": [
        "# !unzip \"/content/ECG_code.zip\""
      ],
      "execution_count": null,
      "outputs": []
    },
    {
      "cell_type": "code",
      "source": [
        "from google.colab import drive\n",
        "drive.mount('/content/drive')"
      ],
      "metadata": {
        "id": "EyG-50e9Qim7",
        "colab": {
          "base_uri": "https://localhost:8080/"
        },
        "outputId": "2677ba68-2e6a-4c9e-d7a4-b170db0ffb22"
      },
      "execution_count": null,
      "outputs": [
        {
          "output_type": "stream",
          "name": "stdout",
          "text": [
            "Mounted at /content/drive\n"
          ]
        }
      ]
    },
    {
      "cell_type": "code",
      "source": [
        "import os\n",
        "os.mkdir('/content/POST_Sample/')\n",
        "os.chdir('/content/POST_Sample/')\n",
        "!unzip \"/content/drive/MyDrive/POST_sample-20211213T052114Z-001.zip\""
      ],
      "metadata": {
        "id": "n6cAWBoYZHXj"
      },
      "execution_count": null,
      "outputs": []
    },
    {
      "cell_type": "code",
      "source": [
        "os.chdir('/content/')"
      ],
      "metadata": {
        "id": "ZApWxrgxZUlQ"
      },
      "execution_count": null,
      "outputs": []
    },
    {
      "cell_type": "code",
      "metadata": {
        "id": "4yYlARr1lBZV"
      },
      "source": [
        "import numpy as np\n",
        "import cv2\n",
        "import os\n",
        "import matplotlib.pyplot as plt\n",
        "\n",
        "from google.colab.patches import cv2_imshow\n",
        "from scipy.interpolate import interp1d"
      ],
      "execution_count": null,
      "outputs": []
    },
    {
      "cell_type": "code",
      "source": [
        "image2=  plt.imread('/content/files/PRE_sample/A10498.png')\n",
        "image2= np.array(image2)\n",
        "image2 = image2*255   #Since the image is automatically normalised to 0-1\n",
        "\n",
        "# os.chdir('/content/Files/')\n",
        "# os.chdir('/content/')"
      ],
      "metadata": {
        "id": "iTpVQsXwkD5m"
      },
      "execution_count": null,
      "outputs": []
    },
    {
      "cell_type": "code",
      "source": [
        "\n",
        "def imgread(image_name,fig,image2):\n",
        "\n",
        "\n",
        "  xt = image2[:,:,0]\n",
        "  # print(\"Shape of xt is\", xt.shape)\n",
        "  M = int(round(102*(xt.shape[0])/992)) #width of 1 channel\n",
        "  # print(\"The value of 'M' is: \", M)\n",
        "  N = int(round(169*(xt.shape[0])/992)) ## channel spacing\n",
        "  # print(\"The value of 'N' is: \", N)\n",
        "  B = 1   #channel number\n",
        "\n",
        "  for B in range(1,7):\n",
        "    # print(\"Shape of xt is :\" ,xt.shape)\n",
        "    sig = xt[(B-1)*N: min(xt.shape[0], (B-1)*N + M),:]\n",
        "\n",
        "    \n",
        "    # print(\"Size of 'sig': \",sig.shape)\n",
        "    l_o_i_a=0\n",
        "    \"\"\" this for loop is to identify the number of rows of img_array\n",
        "    This is needed to predifine the array\n",
        "    \"\"\"\n",
        "    for l in range(0, sig.shape[0]):\n",
        "      \n",
        "      flat_array = np.matrix.flatten(sig[l,:])\n",
        "      pos = np.array(np.where(flat_array<200))\n",
        "\n",
        "      pos = pos.T\n",
        "\n",
        "      pos = pos.reshape(-1)\n",
        "      if len(pos)>0:\n",
        "        l_o_i_a += len(pos)\n",
        "\n",
        "\n",
        "    img_array= np.zeros((l_o_i_a,2))\n",
        "    c=1\n",
        "    for i in range(0, sig.shape[0]):\n",
        "    \n",
        "      flat_array = np.matrix.flatten(sig[i,:])\n",
        "\n",
        "      pos = np.array(np.where(flat_array<200))\n",
        "      pos = pos.T\n",
        "    # pos = np.squeeze(pos)\n",
        "      pos = pos.reshape(-1)\n",
        "      # print(len(pos))\n",
        "\n",
        "      \n",
        "      \n",
        "    \n",
        "\n",
        "      arr_i = []\n",
        "\n",
        "      value = i+1\n",
        "      for k in range(0,len(pos)):\n",
        "        arr_i.append(value)\n",
        "      arr_i = np.array(arr_i)\n",
        "\n",
        "      \n",
        "      \n",
        "    \n",
        "      \n",
        "      #print(len(pos))\n",
        "      if len(pos)>0:\n",
        "        img_array[c-1: c+len(pos)-1,0]= pos\n",
        "        img_array[c-1: c+len(pos)-1,1]= arr_i\n",
        "        \n",
        "\n",
        "\n",
        "        c += len(pos)\n",
        "        # print(c)\n",
        "    \n",
        "        \n",
        "    \n",
        "\n",
        "\n",
        "    img_array2 = img_array.tolist()\n",
        "    # print(\"IMG ARRAY2\", img_array2)\n",
        "    img_array3 = img_array2.sort(key=lambda x: x[0])\n",
        "    # print(\"IMG ARRAY is \", img_array2)\n",
        "\n",
        "    ecg_array = img_array2\n",
        "\n",
        "\n",
        "    ecg_array= np.array(ecg_array)\n",
        "    uniq_x = np.unique(np.array(ecg_array[:,0]))\n",
        "    ecg_reconstruct = np.zeros((len(uniq_x),2))\n",
        "    # print(\"ECG Array  \", ecg_array)\n",
        "\n",
        "    for i in range(0,len(uniq_x)):\n",
        "      new_mat = np.matrix.flatten(ecg_array[:,0])\n",
        "      pos = np.array(np.where(new_mat== uniq_x[i]))\n",
        "\n",
        "    \n",
        "      \n",
        "      pos = pos.reshape(-1)\n",
        "      ecg_reconstruct[i][0]= uniq_x[i]\n",
        "      index = pos[0]\n",
        "      ecg_reconstruct[i][1]= M - ecg_array[index][1]\n",
        "    t = np.arange(10,1701)\n",
        "\n",
        "    # x = np.interp(ecg_reconstruct[:,1], ecg_reconstruct[:,0],t)\n",
        "    x = np.array(interp1d(ecg_reconstruct[:,0], ecg_reconstruct[:,1], bounds_error=False)(t))\n",
        "    ecg_interp = np.zeros((B,x.shape[0]))\n",
        "    ecg_interp[B-1,:] = x\n",
        "\n",
        "\n",
        "    # ax = fig.add_subplot(6,1,B)\n",
        "    # plt.subplot(6,1,B)\n",
        "    ax = fig.add_subplot(6,1,B)\n",
        "  \n",
        "    ax.plot(t,ecg_interp[B-1,:])\n",
        "    # plt.figure()\n",
        "    # plt.plot(t,ecg_interp[B-1,:])\n",
        "    if B==6:\n",
        "      plt.savefig(str(image_name)+ '_plot.png')\n",
        "\n",
        "\n",
        "\n",
        "\n",
        "\n",
        "\n",
        "    \n"
      ],
      "metadata": {
        "id": "sCQJUbG-nASf"
      },
      "execution_count": null,
      "outputs": []
    },
    {
      "cell_type": "code",
      "source": [
        "# import shutil\n",
        "# shutil.rmtree('/content/PostSampleFilesSeparated')\n",
        "# shutil.rmtree('/content/PreSampleFilesSeparated')\n"
      ],
      "metadata": {
        "id": "Gog1O3pTXFnq"
      },
      "execution_count": null,
      "outputs": []
    },
    {
      "cell_type": "code",
      "source": [
        "# import shutil\n",
        "# for i in os.listdir('/content/Files/'):\n",
        "#   if len(str(i).split('.'))==2:\n",
        "#     if str(i).split('.')[1]=='pngplots' or str(i).split('.')[1]=='PNGplots':\n",
        "#       shutil.rmtree('/content/Files/'+str(i))\n",
        "    "
      ],
      "metadata": {
        "id": "5yZf5jQ-r3OE"
      },
      "execution_count": null,
      "outputs": []
    },
    {
      "cell_type": "code",
      "source": [
        "os.mkdir('/content/PostSampleFiles')"
      ],
      "metadata": {
        "id": "Ht_SaOUDmh4l"
      },
      "execution_count": null,
      "outputs": []
    },
    {
      "cell_type": "code",
      "source": [
        "# c=0\n",
        "# for i in os.listdir('/content/PRE_Sample/PRE_sample/'):\n",
        "#   if os.path.exists('/content/PostSampleFilesSeparated/'+ str(i) +'plots') == 0:\n",
        "#     os.mkdir ('/content/PostSampleFilesSeparated/'+ str(i) +'plots/')\n",
        "#     os.chdir('/content/PostSampleFilesSeparated/'+ str(i) +'plots/')\n",
        "#     image2 = plt.imread('/content/Post_Sample/POST_sample/POST_sample/'+ str(i))\n",
        "#     image2= np.array(image2)\n",
        "#     image2 = image2*255\n",
        "#     fig = plt.figure()\n",
        "#     imgread(fig,image2)\n",
        "    \n",
        "#     del image2\n",
        "#     os.chdir('/content/') \n",
        "\n",
        "\n",
        "\n",
        "  "
      ],
      "metadata": {
        "id": "JUEhiSSj3fvg"
      },
      "execution_count": null,
      "outputs": []
    },
    {
      "cell_type": "code",
      "source": [
        "c=0\n",
        "for i in os.listdir('/content/POST_Sample/POST_sample/POST_sample/'):\n",
        "\n",
        "\n",
        "  os.chdir('/content/PostSampleFiles/')\n",
        "  image2 = plt.imread('/content/POST_Sample/POST_sample/POST_sample/'+ str(i))\n",
        "  image2= np.array(image2)\n",
        "  image2 = image2*255\n",
        "  fig = plt.figure()\n",
        "  imgread(str(i).split('.')[0],fig,image2)\n",
        "  \n",
        "  del image2\n",
        "  os.chdir('/content/') \n",
        "\n"
      ],
      "metadata": {
        "id": "Y3WrDyg3m1t1"
      },
      "execution_count": null,
      "outputs": []
    },
    {
      "cell_type": "code",
      "source": [
        "shutil.rmtree('/content/PostSampleFiles')"
      ],
      "metadata": {
        "id": "gxC_k4sYku6l"
      },
      "execution_count": null,
      "outputs": []
    },
    {
      "cell_type": "code",
      "source": [
        "os.mkdir('/content/PostSampleFiles/')"
      ],
      "metadata": {
        "id": "6rQ96GF9jcOX"
      },
      "execution_count": null,
      "outputs": []
    },
    {
      "cell_type": "code",
      "source": [
        "import shutil\n",
        "shutil.make_archive('/content/PostSampleFiles/', 'zip','/content/PostSampleFiles/', )\n"
      ],
      "metadata": {
        "id": "TZAXk47h5dUI",
        "colab": {
          "base_uri": "https://localhost:8080/",
          "height": 38
        },
        "outputId": "4d28f9ba-c57c-4747-a9cf-f33cbe6f22c0"
      },
      "execution_count": null,
      "outputs": [
        {
          "output_type": "execute_result",
          "data": {
            "application/vnd.google.colaboratory.intrinsic+json": {
              "type": "string"
            },
            "text/plain": [
              "'/content/PostSampleFiles.zip'"
            ]
          },
          "metadata": {},
          "execution_count": 23
        }
      ]
    },
    {
      "cell_type": "code",
      "source": [],
      "metadata": {
        "id": "vSZp_s3GQz5F"
      },
      "execution_count": null,
      "outputs": []
    }
  ]
}